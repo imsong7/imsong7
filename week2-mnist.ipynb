{
 "cells": [
  {
   "cell_type": "code",
   "execution_count": 1,
   "id": "bf25a869",
   "metadata": {
    "_cell_guid": "b1076dfc-b9ad-4769-8c92-a6c4dae69d19",
    "_uuid": "8f2839f25d086af736a60e9eeb907d3b93b6e0e5",
    "execution": {
     "iopub.execute_input": "2024-04-03T08:55:10.940156Z",
     "iopub.status.busy": "2024-04-03T08:55:10.939415Z",
     "iopub.status.idle": "2024-04-03T08:55:18.640170Z",
     "shell.execute_reply": "2024-04-03T08:55:18.639096Z"
    },
    "papermill": {
     "duration": 7.713177,
     "end_time": "2024-04-03T08:55:18.642755",
     "exception": false,
     "start_time": "2024-04-03T08:55:10.929578",
     "status": "completed"
    },
    "tags": []
   },
   "outputs": [],
   "source": [
    "import numpy as np \n",
    "import pandas as pd\n",
    "import os\n",
    "import torch\n",
    "import torch.nn as nn\n",
    "import torchvision\n",
    "import torchvision.transforms as transforms\n",
    "from torch.utils.data import Dataset, DataLoader\n",
    "\n",
    "device = torch.device(\"cuda\" if torch.cuda.is_available() else \"cpu\")\n",
    "torch.manual_seed(777) # 랜덤 시드 고정\n",
    "\n",
    "# GPU 사용 가능일 경우 랜덤 시드 고정\n",
    "if device == 'cuda':\n",
    "    torch.cuda.manual_seed_all(777)"
   ]
  },
  {
   "cell_type": "code",
   "execution_count": 2,
   "id": "5c932a38",
   "metadata": {
    "execution": {
     "iopub.execute_input": "2024-04-03T08:55:18.659328Z",
     "iopub.status.busy": "2024-04-03T08:55:18.658851Z",
     "iopub.status.idle": "2024-04-03T08:55:25.193071Z",
     "shell.execute_reply": "2024-04-03T08:55:25.192214Z"
    },
    "papermill": {
     "duration": 6.545143,
     "end_time": "2024-04-03T08:55:25.195634",
     "exception": false,
     "start_time": "2024-04-03T08:55:18.650491",
     "status": "completed"
    },
    "tags": []
   },
   "outputs": [
    {
     "data": {
      "text/html": [
       "<div>\n",
       "<style scoped>\n",
       "    .dataframe tbody tr th:only-of-type {\n",
       "        vertical-align: middle;\n",
       "    }\n",
       "\n",
       "    .dataframe tbody tr th {\n",
       "        vertical-align: top;\n",
       "    }\n",
       "\n",
       "    .dataframe thead th {\n",
       "        text-align: right;\n",
       "    }\n",
       "</style>\n",
       "<table border=\"1\" class=\"dataframe\">\n",
       "  <thead>\n",
       "    <tr style=\"text-align: right;\">\n",
       "      <th></th>\n",
       "      <th>label</th>\n",
       "      <th>pixel0</th>\n",
       "      <th>pixel1</th>\n",
       "      <th>pixel2</th>\n",
       "      <th>pixel3</th>\n",
       "      <th>pixel4</th>\n",
       "      <th>pixel5</th>\n",
       "      <th>pixel6</th>\n",
       "      <th>pixel7</th>\n",
       "      <th>pixel8</th>\n",
       "      <th>...</th>\n",
       "      <th>pixel774</th>\n",
       "      <th>pixel775</th>\n",
       "      <th>pixel776</th>\n",
       "      <th>pixel777</th>\n",
       "      <th>pixel778</th>\n",
       "      <th>pixel779</th>\n",
       "      <th>pixel780</th>\n",
       "      <th>pixel781</th>\n",
       "      <th>pixel782</th>\n",
       "      <th>pixel783</th>\n",
       "    </tr>\n",
       "  </thead>\n",
       "  <tbody>\n",
       "    <tr>\n",
       "      <th>0</th>\n",
       "      <td>1.0</td>\n",
       "      <td>0.0</td>\n",
       "      <td>0.0</td>\n",
       "      <td>0.0</td>\n",
       "      <td>0.0</td>\n",
       "      <td>0.0</td>\n",
       "      <td>0.0</td>\n",
       "      <td>0.0</td>\n",
       "      <td>0.0</td>\n",
       "      <td>0.0</td>\n",
       "      <td>...</td>\n",
       "      <td>0.0</td>\n",
       "      <td>0.0</td>\n",
       "      <td>0.0</td>\n",
       "      <td>0.0</td>\n",
       "      <td>0.0</td>\n",
       "      <td>0.0</td>\n",
       "      <td>0.0</td>\n",
       "      <td>0.0</td>\n",
       "      <td>0.0</td>\n",
       "      <td>0.0</td>\n",
       "    </tr>\n",
       "    <tr>\n",
       "      <th>1</th>\n",
       "      <td>0.0</td>\n",
       "      <td>0.0</td>\n",
       "      <td>0.0</td>\n",
       "      <td>0.0</td>\n",
       "      <td>0.0</td>\n",
       "      <td>0.0</td>\n",
       "      <td>0.0</td>\n",
       "      <td>0.0</td>\n",
       "      <td>0.0</td>\n",
       "      <td>0.0</td>\n",
       "      <td>...</td>\n",
       "      <td>0.0</td>\n",
       "      <td>0.0</td>\n",
       "      <td>0.0</td>\n",
       "      <td>0.0</td>\n",
       "      <td>0.0</td>\n",
       "      <td>0.0</td>\n",
       "      <td>0.0</td>\n",
       "      <td>0.0</td>\n",
       "      <td>0.0</td>\n",
       "      <td>0.0</td>\n",
       "    </tr>\n",
       "    <tr>\n",
       "      <th>2</th>\n",
       "      <td>1.0</td>\n",
       "      <td>0.0</td>\n",
       "      <td>0.0</td>\n",
       "      <td>0.0</td>\n",
       "      <td>0.0</td>\n",
       "      <td>0.0</td>\n",
       "      <td>0.0</td>\n",
       "      <td>0.0</td>\n",
       "      <td>0.0</td>\n",
       "      <td>0.0</td>\n",
       "      <td>...</td>\n",
       "      <td>0.0</td>\n",
       "      <td>0.0</td>\n",
       "      <td>0.0</td>\n",
       "      <td>0.0</td>\n",
       "      <td>0.0</td>\n",
       "      <td>0.0</td>\n",
       "      <td>0.0</td>\n",
       "      <td>0.0</td>\n",
       "      <td>0.0</td>\n",
       "      <td>0.0</td>\n",
       "    </tr>\n",
       "    <tr>\n",
       "      <th>3</th>\n",
       "      <td>4.0</td>\n",
       "      <td>0.0</td>\n",
       "      <td>0.0</td>\n",
       "      <td>0.0</td>\n",
       "      <td>0.0</td>\n",
       "      <td>0.0</td>\n",
       "      <td>0.0</td>\n",
       "      <td>0.0</td>\n",
       "      <td>0.0</td>\n",
       "      <td>0.0</td>\n",
       "      <td>...</td>\n",
       "      <td>0.0</td>\n",
       "      <td>0.0</td>\n",
       "      <td>0.0</td>\n",
       "      <td>0.0</td>\n",
       "      <td>0.0</td>\n",
       "      <td>0.0</td>\n",
       "      <td>0.0</td>\n",
       "      <td>0.0</td>\n",
       "      <td>0.0</td>\n",
       "      <td>0.0</td>\n",
       "    </tr>\n",
       "    <tr>\n",
       "      <th>4</th>\n",
       "      <td>0.0</td>\n",
       "      <td>0.0</td>\n",
       "      <td>0.0</td>\n",
       "      <td>0.0</td>\n",
       "      <td>0.0</td>\n",
       "      <td>0.0</td>\n",
       "      <td>0.0</td>\n",
       "      <td>0.0</td>\n",
       "      <td>0.0</td>\n",
       "      <td>0.0</td>\n",
       "      <td>...</td>\n",
       "      <td>0.0</td>\n",
       "      <td>0.0</td>\n",
       "      <td>0.0</td>\n",
       "      <td>0.0</td>\n",
       "      <td>0.0</td>\n",
       "      <td>0.0</td>\n",
       "      <td>0.0</td>\n",
       "      <td>0.0</td>\n",
       "      <td>0.0</td>\n",
       "      <td>0.0</td>\n",
       "    </tr>\n",
       "    <tr>\n",
       "      <th>...</th>\n",
       "      <td>...</td>\n",
       "      <td>...</td>\n",
       "      <td>...</td>\n",
       "      <td>...</td>\n",
       "      <td>...</td>\n",
       "      <td>...</td>\n",
       "      <td>...</td>\n",
       "      <td>...</td>\n",
       "      <td>...</td>\n",
       "      <td>...</td>\n",
       "      <td>...</td>\n",
       "      <td>...</td>\n",
       "      <td>...</td>\n",
       "      <td>...</td>\n",
       "      <td>...</td>\n",
       "      <td>...</td>\n",
       "      <td>...</td>\n",
       "      <td>...</td>\n",
       "      <td>...</td>\n",
       "      <td>...</td>\n",
       "      <td>...</td>\n",
       "    </tr>\n",
       "    <tr>\n",
       "      <th>41995</th>\n",
       "      <td>0.0</td>\n",
       "      <td>0.0</td>\n",
       "      <td>0.0</td>\n",
       "      <td>0.0</td>\n",
       "      <td>0.0</td>\n",
       "      <td>0.0</td>\n",
       "      <td>0.0</td>\n",
       "      <td>0.0</td>\n",
       "      <td>0.0</td>\n",
       "      <td>0.0</td>\n",
       "      <td>...</td>\n",
       "      <td>0.0</td>\n",
       "      <td>0.0</td>\n",
       "      <td>0.0</td>\n",
       "      <td>0.0</td>\n",
       "      <td>0.0</td>\n",
       "      <td>0.0</td>\n",
       "      <td>0.0</td>\n",
       "      <td>0.0</td>\n",
       "      <td>0.0</td>\n",
       "      <td>0.0</td>\n",
       "    </tr>\n",
       "    <tr>\n",
       "      <th>41996</th>\n",
       "      <td>1.0</td>\n",
       "      <td>0.0</td>\n",
       "      <td>0.0</td>\n",
       "      <td>0.0</td>\n",
       "      <td>0.0</td>\n",
       "      <td>0.0</td>\n",
       "      <td>0.0</td>\n",
       "      <td>0.0</td>\n",
       "      <td>0.0</td>\n",
       "      <td>0.0</td>\n",
       "      <td>...</td>\n",
       "      <td>0.0</td>\n",
       "      <td>0.0</td>\n",
       "      <td>0.0</td>\n",
       "      <td>0.0</td>\n",
       "      <td>0.0</td>\n",
       "      <td>0.0</td>\n",
       "      <td>0.0</td>\n",
       "      <td>0.0</td>\n",
       "      <td>0.0</td>\n",
       "      <td>0.0</td>\n",
       "    </tr>\n",
       "    <tr>\n",
       "      <th>41997</th>\n",
       "      <td>7.0</td>\n",
       "      <td>0.0</td>\n",
       "      <td>0.0</td>\n",
       "      <td>0.0</td>\n",
       "      <td>0.0</td>\n",
       "      <td>0.0</td>\n",
       "      <td>0.0</td>\n",
       "      <td>0.0</td>\n",
       "      <td>0.0</td>\n",
       "      <td>0.0</td>\n",
       "      <td>...</td>\n",
       "      <td>0.0</td>\n",
       "      <td>0.0</td>\n",
       "      <td>0.0</td>\n",
       "      <td>0.0</td>\n",
       "      <td>0.0</td>\n",
       "      <td>0.0</td>\n",
       "      <td>0.0</td>\n",
       "      <td>0.0</td>\n",
       "      <td>0.0</td>\n",
       "      <td>0.0</td>\n",
       "    </tr>\n",
       "    <tr>\n",
       "      <th>41998</th>\n",
       "      <td>6.0</td>\n",
       "      <td>0.0</td>\n",
       "      <td>0.0</td>\n",
       "      <td>0.0</td>\n",
       "      <td>0.0</td>\n",
       "      <td>0.0</td>\n",
       "      <td>0.0</td>\n",
       "      <td>0.0</td>\n",
       "      <td>0.0</td>\n",
       "      <td>0.0</td>\n",
       "      <td>...</td>\n",
       "      <td>0.0</td>\n",
       "      <td>0.0</td>\n",
       "      <td>0.0</td>\n",
       "      <td>0.0</td>\n",
       "      <td>0.0</td>\n",
       "      <td>0.0</td>\n",
       "      <td>0.0</td>\n",
       "      <td>0.0</td>\n",
       "      <td>0.0</td>\n",
       "      <td>0.0</td>\n",
       "    </tr>\n",
       "    <tr>\n",
       "      <th>41999</th>\n",
       "      <td>9.0</td>\n",
       "      <td>0.0</td>\n",
       "      <td>0.0</td>\n",
       "      <td>0.0</td>\n",
       "      <td>0.0</td>\n",
       "      <td>0.0</td>\n",
       "      <td>0.0</td>\n",
       "      <td>0.0</td>\n",
       "      <td>0.0</td>\n",
       "      <td>0.0</td>\n",
       "      <td>...</td>\n",
       "      <td>0.0</td>\n",
       "      <td>0.0</td>\n",
       "      <td>0.0</td>\n",
       "      <td>0.0</td>\n",
       "      <td>0.0</td>\n",
       "      <td>0.0</td>\n",
       "      <td>0.0</td>\n",
       "      <td>0.0</td>\n",
       "      <td>0.0</td>\n",
       "      <td>0.0</td>\n",
       "    </tr>\n",
       "  </tbody>\n",
       "</table>\n",
       "<p>42000 rows × 785 columns</p>\n",
       "</div>"
      ],
      "text/plain": [
       "       label  pixel0  pixel1  pixel2  pixel3  pixel4  pixel5  pixel6  pixel7  \\\n",
       "0        1.0     0.0     0.0     0.0     0.0     0.0     0.0     0.0     0.0   \n",
       "1        0.0     0.0     0.0     0.0     0.0     0.0     0.0     0.0     0.0   \n",
       "2        1.0     0.0     0.0     0.0     0.0     0.0     0.0     0.0     0.0   \n",
       "3        4.0     0.0     0.0     0.0     0.0     0.0     0.0     0.0     0.0   \n",
       "4        0.0     0.0     0.0     0.0     0.0     0.0     0.0     0.0     0.0   \n",
       "...      ...     ...     ...     ...     ...     ...     ...     ...     ...   \n",
       "41995    0.0     0.0     0.0     0.0     0.0     0.0     0.0     0.0     0.0   \n",
       "41996    1.0     0.0     0.0     0.0     0.0     0.0     0.0     0.0     0.0   \n",
       "41997    7.0     0.0     0.0     0.0     0.0     0.0     0.0     0.0     0.0   \n",
       "41998    6.0     0.0     0.0     0.0     0.0     0.0     0.0     0.0     0.0   \n",
       "41999    9.0     0.0     0.0     0.0     0.0     0.0     0.0     0.0     0.0   \n",
       "\n",
       "       pixel8  ...  pixel774  pixel775  pixel776  pixel777  pixel778  \\\n",
       "0         0.0  ...       0.0       0.0       0.0       0.0       0.0   \n",
       "1         0.0  ...       0.0       0.0       0.0       0.0       0.0   \n",
       "2         0.0  ...       0.0       0.0       0.0       0.0       0.0   \n",
       "3         0.0  ...       0.0       0.0       0.0       0.0       0.0   \n",
       "4         0.0  ...       0.0       0.0       0.0       0.0       0.0   \n",
       "...       ...  ...       ...       ...       ...       ...       ...   \n",
       "41995     0.0  ...       0.0       0.0       0.0       0.0       0.0   \n",
       "41996     0.0  ...       0.0       0.0       0.0       0.0       0.0   \n",
       "41997     0.0  ...       0.0       0.0       0.0       0.0       0.0   \n",
       "41998     0.0  ...       0.0       0.0       0.0       0.0       0.0   \n",
       "41999     0.0  ...       0.0       0.0       0.0       0.0       0.0   \n",
       "\n",
       "       pixel779  pixel780  pixel781  pixel782  pixel783  \n",
       "0           0.0       0.0       0.0       0.0       0.0  \n",
       "1           0.0       0.0       0.0       0.0       0.0  \n",
       "2           0.0       0.0       0.0       0.0       0.0  \n",
       "3           0.0       0.0       0.0       0.0       0.0  \n",
       "4           0.0       0.0       0.0       0.0       0.0  \n",
       "...         ...       ...       ...       ...       ...  \n",
       "41995       0.0       0.0       0.0       0.0       0.0  \n",
       "41996       0.0       0.0       0.0       0.0       0.0  \n",
       "41997       0.0       0.0       0.0       0.0       0.0  \n",
       "41998       0.0       0.0       0.0       0.0       0.0  \n",
       "41999       0.0       0.0       0.0       0.0       0.0  \n",
       "\n",
       "[42000 rows x 785 columns]"
      ]
     },
     "execution_count": 2,
     "metadata": {},
     "output_type": "execute_result"
    }
   ],
   "source": [
    "train = pd.read_csv(\"/kaggle/input/digit-recognizer/train.csv\", dtype=np.float32)\n",
    "test = pd.read_csv(\"/kaggle/input/digit-recognizer/test.csv\", dtype=np.float32)\n",
    "sample_sub = pd.read_csv(\"/kaggle/input/digit-recognizer/sample_submission.csv\")\n",
    "\n",
    "train"
   ]
  },
  {
   "cell_type": "code",
   "execution_count": 3,
   "id": "0fbb383e",
   "metadata": {
    "execution": {
     "iopub.execute_input": "2024-04-03T08:55:25.212217Z",
     "iopub.status.busy": "2024-04-03T08:55:25.211891Z",
     "iopub.status.idle": "2024-04-03T08:55:25.371858Z",
     "shell.execute_reply": "2024-04-03T08:55:25.370937Z"
    },
    "papermill": {
     "duration": 0.170616,
     "end_time": "2024-04-03T08:55:25.373947",
     "exception": false,
     "start_time": "2024-04-03T08:55:25.203331",
     "status": "completed"
    },
    "tags": []
   },
   "outputs": [
    {
     "name": "stdout",
     "output_type": "stream",
     "text": [
      "(42000, 784) (42000,)\n",
      "torch.Size([42000, 784]) torch.Size([42000])\n"
     ]
    }
   ],
   "source": [
    "X = train.drop('label',axis=1).values/255\n",
    "y = train.label.values\n",
    "print(X.shape, y.shape)\n",
    "\n",
    "X = torch.tensor(X, dtype=torch.float32)\n",
    "y = torch.tensor(y, dtype=torch.int64)\n",
    "print(X.shape, y.shape)"
   ]
  },
  {
   "cell_type": "code",
   "execution_count": 4,
   "id": "0808c9db",
   "metadata": {
    "execution": {
     "iopub.execute_input": "2024-04-03T08:55:25.391158Z",
     "iopub.status.busy": "2024-04-03T08:55:25.390497Z",
     "iopub.status.idle": "2024-04-03T08:55:56.608516Z",
     "shell.execute_reply": "2024-04-03T08:55:56.607616Z"
    },
    "papermill": {
     "duration": 31.228965,
     "end_time": "2024-04-03T08:55:56.610721",
     "exception": false,
     "start_time": "2024-04-03T08:55:25.381756",
     "status": "completed"
    },
    "tags": []
   },
   "outputs": [
    {
     "name": "stdout",
     "output_type": "stream",
     "text": [
      "Epoch    0/100 Cost: 2.319580\n",
      "Epoch   10/100 Cost: 2.249843\n",
      "Epoch   20/100 Cost: 1.941140\n",
      "Epoch   30/100 Cost: 1.548997\n",
      "Epoch   40/100 Cost: 1.167071\n",
      "Epoch   50/100 Cost: 0.850040\n",
      "Epoch   60/100 Cost: 0.708893\n",
      "Epoch   70/100 Cost: 0.613454\n",
      "Epoch   80/100 Cost: 0.540598\n",
      "Epoch   90/100 Cost: 0.478584\n",
      "예측 결과 : 2\n",
      "이 이미지 데이터의 정답 레이블은 2입니다\n"
     ]
    },
    {
     "data": {
      "image/png": "[encoded data removed]",
      "text/plain": [
       "<Figure size 640x480 with 1 Axes>"
      ]
     },
     "metadata": {},
     "output_type": "display_data"
    }
   ],
   "source": [
    "# 도구 임포트\n",
    "import torch\n",
    "import torch.nn as nn\n",
    "from torch import optim\n",
    "# 모델 정의\n",
    "model = nn.Sequential(\n",
    "  nn.Linear(784, 256),\n",
    "  nn.ReLU(),\n",
    "  nn.Linear(256, 100),\n",
    "  nn.ReLU(),\n",
    "  nn.Linear(100, 64),\n",
    "  nn.ReLU(),\n",
    "  nn.Linear(64, 32),\n",
    "  nn.ReLU(),\n",
    "  nn.Linear(32, 16),\n",
    "  nn.ReLU(),\n",
    "  nn.Linear(16, 10) \n",
    ")\n",
    "\n",
    "# 비용함수 정의\n",
    "loss_fn = nn.CrossEntropyLoss() # 이 비용 함수는 소프트맥스 함수를 포함하고 있음.\n",
    "\n",
    "# 옵티마이저 정의\n",
    "optimizer = optim.Adam(model.parameters())\n",
    "\n",
    "# 손실값\n",
    "losses = []\n",
    "\n",
    "# 훈련 실행\n",
    "for epoch in range(100):\n",
    "  optimizer.zero_grad()\n",
    "  y_pred = model(X) # forwar 연산\n",
    "  loss = loss_fn(y_pred, y)\n",
    "  loss.backward()\n",
    "  optimizer.step()\n",
    "\n",
    "  if epoch % 10 == 0:\n",
    "    print('Epoch {:4d}/{} Cost: {:.6f}'.format(epoch, 100, loss.item()))\n",
    "\n",
    "  losses.append(loss.item())\n",
    "\n",
    "# 손실값 확인\n",
    "import matplotlib.pyplot as plt\n",
    "plt.plot(losses)\n",
    "\n",
    "# 모델 테스트\n",
    "import random\n",
    "\n",
    "r = random.randint(0, len(X) - 1)\n",
    "index = r\n",
    "model.eval()\n",
    "data = X[index]\n",
    "output = model(data)\n",
    "_, predicted = torch.max(output.data, 0)\n",
    "\n",
    "print(\"예측 결과 : {}\".format(predicted))\n",
    "\n",
    "X_test_show = (X[index]).numpy()\n",
    "plt.imshow(X_test_show.reshape(28, 28), cmap='gray')\n",
    "print(\"이 이미지 데이터의 정답 레이블은 {:.0f}입니다\".format(y[index]))"
   ]
  },
  {
   "cell_type": "code",
   "execution_count": 5,
   "id": "f3e9c3b7",
   "metadata": {
    "execution": {
     "iopub.execute_input": "2024-04-03T08:55:56.629606Z",
     "iopub.status.busy": "2024-04-03T08:55:56.629299Z",
     "iopub.status.idle": "2024-04-03T08:55:56.690691Z",
     "shell.execute_reply": "2024-04-03T08:55:56.689592Z"
    },
    "papermill": {
     "duration": 0.073835,
     "end_time": "2024-04-03T08:55:56.693310",
     "exception": false,
     "start_time": "2024-04-03T08:55:56.619475",
     "status": "completed"
    },
    "tags": []
   },
   "outputs": [],
   "source": [
    "X_test = test.values/255\n",
    "X_test = torch.tensor(X_test, dtype=torch.float32)"
   ]
  },
  {
   "cell_type": "code",
   "execution_count": 6,
   "id": "ab827a5e",
   "metadata": {
    "execution": {
     "iopub.execute_input": "2024-04-03T08:55:56.714254Z",
     "iopub.status.busy": "2024-04-03T08:55:56.713569Z",
     "iopub.status.idle": "2024-04-03T08:55:56.849512Z",
     "shell.execute_reply": "2024-04-03T08:55:56.848457Z"
    },
    "papermill": {
     "duration": 0.149912,
     "end_time": "2024-04-03T08:55:56.852335",
     "exception": false,
     "start_time": "2024-04-03T08:55:56.702423",
     "status": "completed"
    },
    "tags": []
   },
   "outputs": [],
   "source": [
    "with torch.no_grad():\n",
    "    model.eval()\n",
    "    sample_sub['Label'] = model(X_test).cpu().argmax(dim=1)\n",
    "\n",
    "sample_sub.head()\n",
    "\n",
    "sample_sub.to_csv(\"submission.csv\", index=False)"
   ]
  },
  {
   "cell_type": "code",
   "execution_count": 7,
   "id": "11dedfcd",
   "metadata": {
    "execution": {
     "iopub.execute_input": "2024-04-03T08:55:56.872364Z",
     "iopub.status.busy": "2024-04-03T08:55:56.871657Z",
     "iopub.status.idle": "2024-04-03T08:55:56.882718Z",
     "shell.execute_reply": "2024-04-03T08:55:56.881746Z"
    },
    "papermill": {
     "duration": 0.02388,
     "end_time": "2024-04-03T08:55:56.885384",
     "exception": false,
     "start_time": "2024-04-03T08:55:56.861504",
     "status": "completed"
    },
    "tags": []
   },
   "outputs": [
    {
     "data": {
      "text/html": [
       "<div>\n",
       "<style scoped>\n",
       "    .dataframe tbody tr th:only-of-type {\n",
       "        vertical-align: middle;\n",
       "    }\n",
       "\n",
       "    .dataframe tbody tr th {\n",
       "        vertical-align: top;\n",
       "    }\n",
       "\n",
       "    .dataframe thead th {\n",
       "        text-align: right;\n",
       "    }\n",
       "</style>\n",
       "<table border=\"1\" class=\"dataframe\">\n",
       "  <thead>\n",
       "    <tr style=\"text-align: right;\">\n",
       "      <th></th>\n",
       "      <th>ImageId</th>\n",
       "      <th>Label</th>\n",
       "    </tr>\n",
       "  </thead>\n",
       "  <tbody>\n",
       "    <tr>\n",
       "      <th>0</th>\n",
       "      <td>1</td>\n",
       "      <td>2</td>\n",
       "    </tr>\n",
       "    <tr>\n",
       "      <th>1</th>\n",
       "      <td>2</td>\n",
       "      <td>0</td>\n",
       "    </tr>\n",
       "    <tr>\n",
       "      <th>2</th>\n",
       "      <td>3</td>\n",
       "      <td>9</td>\n",
       "    </tr>\n",
       "    <tr>\n",
       "      <th>3</th>\n",
       "      <td>4</td>\n",
       "      <td>4</td>\n",
       "    </tr>\n",
       "    <tr>\n",
       "      <th>4</th>\n",
       "      <td>5</td>\n",
       "      <td>2</td>\n",
       "    </tr>\n",
       "    <tr>\n",
       "      <th>...</th>\n",
       "      <td>...</td>\n",
       "      <td>...</td>\n",
       "    </tr>\n",
       "    <tr>\n",
       "      <th>27995</th>\n",
       "      <td>27996</td>\n",
       "      <td>9</td>\n",
       "    </tr>\n",
       "    <tr>\n",
       "      <th>27996</th>\n",
       "      <td>27997</td>\n",
       "      <td>7</td>\n",
       "    </tr>\n",
       "    <tr>\n",
       "      <th>27997</th>\n",
       "      <td>27998</td>\n",
       "      <td>3</td>\n",
       "    </tr>\n",
       "    <tr>\n",
       "      <th>27998</th>\n",
       "      <td>27999</td>\n",
       "      <td>9</td>\n",
       "    </tr>\n",
       "    <tr>\n",
       "      <th>27999</th>\n",
       "      <td>28000</td>\n",
       "      <td>2</td>\n",
       "    </tr>\n",
       "  </tbody>\n",
       "</table>\n",
       "<p>28000 rows × 2 columns</p>\n",
       "</div>"
      ],
      "text/plain": [
       "       ImageId  Label\n",
       "0            1      2\n",
       "1            2      0\n",
       "2            3      9\n",
       "3            4      4\n",
       "4            5      2\n",
       "...        ...    ...\n",
       "27995    27996      9\n",
       "27996    27997      7\n",
       "27997    27998      3\n",
       "27998    27999      9\n",
       "27999    28000      2\n",
       "\n",
       "[28000 rows x 2 columns]"
      ]
     },
     "execution_count": 7,
     "metadata": {},
     "output_type": "execute_result"
    }
   ],
   "source": [
    "sample_sub"
   ]
  },
  {
   "cell_type": "code",
   "execution_count": 8,
   "id": "af969cc5",
   "metadata": {
    "execution": {
     "iopub.execute_input": "2024-04-03T08:55:56.906236Z",
     "iopub.status.busy": "2024-04-03T08:55:56.905852Z",
     "iopub.status.idle": "2024-04-03T08:55:56.944051Z",
     "shell.execute_reply": "2024-04-03T08:55:56.943198Z"
    },
    "papermill": {
     "duration": 0.050861,
     "end_time": "2024-04-03T08:55:56.946397",
     "exception": false,
     "start_time": "2024-04-03T08:55:56.895536",
     "status": "completed"
    },
    "tags": []
   },
   "outputs": [],
   "source": [
    "sample_sub.to_csv(\"submission.csv\", index=False)"
   ]
  },
  {
   "cell_type": "markdown",
   "id": "6232bd45",
   "metadata": {
    "papermill": {
     "duration": 0.008927,
     "end_time": "2024-04-03T08:55:56.964668",
     "exception": false,
     "start_time": "2024-04-03T08:55:56.955741",
     "status": "completed"
    },
    "tags": []
   },
   "source": [
    "-----"
   ]
  },
  {
   "cell_type": "code",
   "execution_count": 9,
   "id": "7d0d98b2",
   "metadata": {
    "execution": {
     "iopub.execute_input": "2024-04-03T08:55:56.985730Z",
     "iopub.status.busy": "2024-04-03T08:55:56.985378Z",
     "iopub.status.idle": "2024-04-03T08:55:56.997873Z",
     "shell.execute_reply": "2024-04-03T08:55:56.997061Z"
    },
    "papermill": {
     "duration": 0.025062,
     "end_time": "2024-04-03T08:55:56.999848",
     "exception": false,
     "start_time": "2024-04-03T08:55:56.974786",
     "status": "completed"
    },
    "tags": []
   },
   "outputs": [],
   "source": [
    "class CNN(torch.nn.Module):\n",
    "\n",
    "    def __init__(self):\n",
    "        super(CNN, self).__init__()\n",
    "        self.keep_prob = 0.5\n",
    "        # L1 ImgIn shape=(?, 28, 28, 1)\n",
    "        #    Conv     -> (?, 28, 28, 32)\n",
    "        #    Pool     -> (?, 14, 14, 32)\n",
    "        self.layer1 = torch.nn.Sequential(\n",
    "            torch.nn.Conv2d(1, 32, kernel_size=3, stride=1, padding=1),\n",
    "            torch.nn.ReLU(),\n",
    "            # feature map의 크기를 적당히 줄이며, 특정 feature를 강조, 채널 수 변화 x\n",
    "            torch.nn.MaxPool2d(kernel_size=2, stride=2))\n",
    "        # L2 ImgIn shape=(?, 14, 14, 32)\n",
    "        #    Conv      ->(?, 14, 14, 64)\n",
    "        #    Pool      ->(?, 7, 7, 64)\n",
    "        self.layer2 = torch.nn.Sequential(\n",
    "            torch.nn.Conv2d(32, 64, kernel_size=3, stride=1, padding=1),\n",
    "            torch.nn.ReLU(),\n",
    "            torch.nn.MaxPool2d(kernel_size=2, stride=2))\n",
    "        # L3 ImgIn shape=(?, 7, 7, 64)\n",
    "        #    Conv      ->(?, 7, 7, 128)\n",
    "        #    Pool      ->(?, 4, 4, 128)\n",
    "        self.layer3 = torch.nn.Sequential(\n",
    "            torch.nn.Conv2d(64, 128, kernel_size=3, stride=1, padding=1),\n",
    "            torch.nn.ReLU(),\n",
    "            torch.nn.MaxPool2d(kernel_size=2, stride=2, padding=1))\n",
    "\n",
    "        # L4 FC 4x4x128 inputs -> 625 outputs\n",
    "        self.fc1 = torch.nn.Linear(4 * 4 * 128, 625, bias=True)\n",
    "        torch.nn.init.xavier_uniform_(self.fc1.weight) # weight initialize\n",
    "        self.layer4 = torch.nn.Sequential(\n",
    "            self.fc1,\n",
    "            torch.nn.ReLU(),\n",
    "            # overfitting 방지\n",
    "            torch.nn.Dropout(p=1 - self.keep_prob))\n",
    "        # L5 Final FC 625 inputs -> 10 outputs\n",
    "        self.fc2 = torch.nn.Linear(625, 10, bias=True)\n",
    "        torch.nn.init.xavier_uniform_(self.fc2.weight)\n",
    "\n",
    "    def forward(self, x):\n",
    "        out = self.layer1(x)\n",
    "        out = self.layer2(out)\n",
    "        out = self.layer3(out)\n",
    "        out = out.view(out.size(0), -1)   # Flatten them for FC\n",
    "        out = self.layer4(out)\n",
    "        out = self.fc2(out)\n",
    "        return out"
   ]
  },
  {
   "cell_type": "code",
   "execution_count": 10,
   "id": "3f9e5a8f",
   "metadata": {
    "execution": {
     "iopub.execute_input": "2024-04-03T08:55:57.019626Z",
     "iopub.status.busy": "2024-04-03T08:55:57.019271Z",
     "iopub.status.idle": "2024-04-03T08:55:57.023615Z",
     "shell.execute_reply": "2024-04-03T08:55:57.022796Z"
    },
    "papermill": {
     "duration": 0.016317,
     "end_time": "2024-04-03T08:55:57.025517",
     "exception": false,
     "start_time": "2024-04-03T08:55:57.009200",
     "status": "completed"
    },
    "tags": []
   },
   "outputs": [],
   "source": [
    "learning_rate = 0.001\n",
    "training_epochs = 15\n",
    "batch_size = 100"
   ]
  },
  {
   "cell_type": "code",
   "execution_count": 11,
   "id": "1cad4d20",
   "metadata": {
    "execution": {
     "iopub.execute_input": "2024-04-03T08:55:57.045023Z",
     "iopub.status.busy": "2024-04-03T08:55:57.044673Z",
     "iopub.status.idle": "2024-04-03T08:55:57.183811Z",
     "shell.execute_reply": "2024-04-03T08:55:57.182694Z"
    },
    "papermill": {
     "duration": 0.151487,
     "end_time": "2024-04-03T08:55:57.186111",
     "exception": false,
     "start_time": "2024-04-03T08:55:57.034624",
     "status": "completed"
    },
    "tags": []
   },
   "outputs": [
    {
     "name": "stdout",
     "output_type": "stream",
     "text": [
      "(42000, 784) (42000,)\n",
      "torch.Size([42000, 1, 28, 28]) torch.Size([42000])\n"
     ]
    }
   ],
   "source": [
    "import torch\n",
    "from torch.utils.data import DataLoader, TensorDataset\n",
    "\n",
    "# 데이터 로드\n",
    "X = train.drop('label',axis=1).values/255\n",
    "y = train.label.values\n",
    "print(X.shape, y.shape)\n",
    "\n",
    "X = X.reshape(-1, 1, 28, 28)\n",
    "\n",
    "X_train = torch.tensor(X, dtype=torch.float32)\n",
    "y_train = torch.tensor(y, dtype=torch.int64)\n",
    "print(X_train.shape, y_train.shape)\n",
    "\n",
    "dataset = TensorDataset(X_train, y_train)\n",
    "data_loader = DataLoader(dataset, batch_size=batch_size, shuffle=True)"
   ]
  },
  {
   "cell_type": "code",
   "execution_count": 12,
   "id": "bd2c014e",
   "metadata": {
    "execution": {
     "iopub.execute_input": "2024-04-03T08:55:57.207838Z",
     "iopub.status.busy": "2024-04-03T08:55:57.207102Z",
     "iopub.status.idle": "2024-04-03T08:56:28.804201Z",
     "shell.execute_reply": "2024-04-03T08:56:28.803226Z"
    },
    "papermill": {
     "duration": 31.620503,
     "end_time": "2024-04-03T08:56:28.817220",
     "exception": false,
     "start_time": "2024-04-03T08:55:57.196717",
     "status": "completed"
    },
    "tags": []
   },
   "outputs": [
    {
     "name": "stdout",
     "output_type": "stream",
     "text": [
      "총 배치의 수 : 420\n",
      "Epoch    1/15 Cost: 0.075608\n",
      "Epoch    2/15 Cost: 0.010611\n",
      "Epoch    3/15 Cost: 0.046258\n",
      "Epoch    4/15 Cost: 0.011698\n",
      "Epoch    5/15 Cost: 0.002849\n",
      "Epoch    6/15 Cost: 0.006102\n",
      "Epoch    7/15 Cost: 0.012527\n",
      "Epoch    8/15 Cost: 0.012515\n",
      "Epoch    9/15 Cost: 0.018945\n",
      "Epoch   10/15 Cost: 0.007958\n",
      "Epoch   11/15 Cost: 0.000043\n",
      "Epoch   12/15 Cost: 0.000929\n",
      "Epoch   13/15 Cost: 0.001126\n",
      "Epoch   14/15 Cost: 0.000426\n",
      "Epoch   15/15 Cost: 0.000549\n"
     ]
    }
   ],
   "source": [
    "cnn = CNN().to(device)\n",
    "\n",
    "loss_fn = torch.nn.CrossEntropyLoss().to(device)    \n",
    "optimizer = torch.optim.Adam(cnn.parameters(), lr=learning_rate)\n",
    "\n",
    "total_batch = len(data_loader)\n",
    "print('총 배치의 수 : {}'.format(total_batch))\n",
    "\n",
    "costs = []\n",
    "\n",
    "for epoch in range(training_epochs):\n",
    "    avg_cost = 0\n",
    "\n",
    "    for X, Y in data_loader: # 미니 배치 \n",
    "        # image is already size of (28x28), no reshape\n",
    "        X = X.to(device)\n",
    "        Y = Y.to(device)\n",
    "        \n",
    "        optimizer.zero_grad()\n",
    "        hypothesis = cnn(X)\n",
    "        loss = loss_fn(hypothesis, Y)\n",
    "        loss.backward()\n",
    "        optimizer.step()\n",
    "\n",
    "        avg_cost += loss / total_batch\n",
    "\n",
    "    print('Epoch {:4d}/{} Cost: {:.6f}'.format(epoch + 1, training_epochs, loss.item()))\n",
    "    costs.append(loss.item())"
   ]
  },
  {
   "cell_type": "code",
   "execution_count": 13,
   "id": "b363bc3a",
   "metadata": {
    "execution": {
     "iopub.execute_input": "2024-04-03T08:56:28.839637Z",
     "iopub.status.busy": "2024-04-03T08:56:28.838818Z",
     "iopub.status.idle": "2024-04-03T08:56:28.909620Z",
     "shell.execute_reply": "2024-04-03T08:56:28.908732Z"
    },
    "papermill": {
     "duration": 0.084087,
     "end_time": "2024-04-03T08:56:28.911629",
     "exception": false,
     "start_time": "2024-04-03T08:56:28.827542",
     "status": "completed"
    },
    "tags": []
   },
   "outputs": [
    {
     "data": {
      "text/plain": [
       "torch.Size([28000, 1, 28, 28])"
      ]
     },
     "execution_count": 13,
     "metadata": {},
     "output_type": "execute_result"
    }
   ],
   "source": [
    "X_test = torch.tensor(test.values, dtype=torch.float32).to(device)\n",
    "X_test = X_test.reshape(-1, 1, 28, 28)\n",
    "X_test.shape"
   ]
  },
  {
   "cell_type": "code",
   "execution_count": 14,
   "id": "6870696d",
   "metadata": {
    "execution": {
     "iopub.execute_input": "2024-04-03T08:56:28.934373Z",
     "iopub.status.busy": "2024-04-03T08:56:28.934004Z",
     "iopub.status.idle": "2024-04-03T08:56:29.699349Z",
     "shell.execute_reply": "2024-04-03T08:56:29.698297Z"
    },
    "papermill": {
     "duration": 0.779277,
     "end_time": "2024-04-03T08:56:29.701597",
     "exception": false,
     "start_time": "2024-04-03T08:56:28.922320",
     "status": "completed"
    },
    "tags": []
   },
   "outputs": [
    {
     "name": "stdout",
     "output_type": "stream",
     "text": [
      "Downloading http://yann.lecun.com/exdb/mnist/train-images-idx3-ubyte.gz\n",
      "Downloading http://yann.lecun.com/exdb/mnist/train-images-idx3-ubyte.gz to MNIST_data/MNIST/raw/train-images-idx3-ubyte.gz\n"
     ]
    },
    {
     "name": "stderr",
     "output_type": "stream",
     "text": [
      "100%|██████████| 9912422/9912422 [00:00<00:00, 168427046.89it/s]"
     ]
    },
    {
     "name": "stdout",
     "output_type": "stream",
     "text": [
      "Extracting MNIST_data/MNIST/raw/train-images-idx3-ubyte.gz to MNIST_data/MNIST/raw\n"
     ]
    },
    {
     "name": "stderr",
     "output_type": "stream",
     "text": [
      "\n"
     ]
    },
    {
     "name": "stdout",
     "output_type": "stream",
     "text": [
      "\n",
      "Downloading http://yann.lecun.com/exdb/mnist/train-labels-idx1-ubyte.gz\n",
      "Downloading http://yann.lecun.com/exdb/mnist/train-labels-idx1-ubyte.gz to MNIST_data/MNIST/raw/train-labels-idx1-ubyte.gz\n"
     ]
    },
    {
     "name": "stderr",
     "output_type": "stream",
     "text": [
      "100%|██████████| 28881/28881 [00:00<00:00, 100694674.83it/s]\n"
     ]
    },
    {
     "name": "stdout",
     "output_type": "stream",
     "text": [
      "Extracting MNIST_data/MNIST/raw/train-labels-idx1-ubyte.gz to MNIST_data/MNIST/raw\n",
      "\n",
      "Downloading http://yann.lecun.com/exdb/mnist/t10k-images-idx3-ubyte.gz\n",
      "Downloading http://yann.lecun.com/exdb/mnist/t10k-images-idx3-ubyte.gz to MNIST_data/MNIST/raw/t10k-images-idx3-ubyte.gz\n"
     ]
    },
    {
     "name": "stderr",
     "output_type": "stream",
     "text": [
      "100%|██████████| 1648877/1648877 [00:00<00:00, 37404021.68it/s]\n"
     ]
    },
    {
     "name": "stdout",
     "output_type": "stream",
     "text": [
      "Extracting MNIST_data/MNIST/raw/t10k-images-idx3-ubyte.gz to MNIST_data/MNIST/raw\n",
      "\n",
      "Downloading http://yann.lecun.com/exdb/mnist/t10k-labels-idx1-ubyte.gz\n",
      "Downloading http://yann.lecun.com/exdb/mnist/t10k-labels-idx1-ubyte.gz to MNIST_data/MNIST/raw/t10k-labels-idx1-ubyte.gz\n"
     ]
    },
    {
     "name": "stderr",
     "output_type": "stream",
     "text": [
      "100%|██████████| 4542/4542 [00:00<00:00, 7629366.75it/s]"
     ]
    },
    {
     "name": "stdout",
     "output_type": "stream",
     "text": [
      "Extracting MNIST_data/MNIST/raw/t10k-labels-idx1-ubyte.gz to MNIST_data/MNIST/raw\n",
      "\n"
     ]
    },
    {
     "name": "stderr",
     "output_type": "stream",
     "text": [
      "\n"
     ]
    }
   ],
   "source": [
    "import torchvision.datasets as dsets\n",
    "\n",
    "mnist_test = dsets.MNIST(root='MNIST_data/',\n",
    "                         train=False,\n",
    "                         transform=transforms.ToTensor(),\n",
    "                         download=True)"
   ]
  },
  {
   "cell_type": "code",
   "execution_count": 15,
   "id": "ec3d0f3a",
   "metadata": {
    "execution": {
     "iopub.execute_input": "2024-04-03T08:56:29.726930Z",
     "iopub.status.busy": "2024-04-03T08:56:29.726570Z",
     "iopub.status.idle": "2024-04-03T08:56:29.854500Z",
     "shell.execute_reply": "2024-04-03T08:56:29.853377Z"
    },
    "papermill": {
     "duration": 0.142955,
     "end_time": "2024-04-03T08:56:29.856523",
     "exception": false,
     "start_time": "2024-04-03T08:56:29.713568",
     "status": "completed"
    },
    "tags": []
   },
   "outputs": [
    {
     "name": "stderr",
     "output_type": "stream",
     "text": [
      "/opt/conda/lib/python3.10/site-packages/torchvision/datasets/mnist.py:80: UserWarning: test_data has been renamed data\n",
      "  warnings.warn(\"test_data has been renamed data\")\n",
      "/opt/conda/lib/python3.10/site-packages/torchvision/datasets/mnist.py:70: UserWarning: test_labels has been renamed targets\n",
      "  warnings.warn(\"test_labels has been renamed targets\")\n"
     ]
    },
    {
     "name": "stdout",
     "output_type": "stream",
     "text": [
      "Accuracy: 0.9828999638557434\n"
     ]
    }
   ],
   "source": [
    "with torch.no_grad():\n",
    "    X_test = mnist_test.test_data.view(len(mnist_test), 1, 28, 28).float().to(device)\n",
    "    Y_test = mnist_test.test_labels.to(device)\n",
    "\n",
    "    prediction = cnn(X_test)\n",
    "    correct_prediction = torch.argmax(prediction, 1) == Y_test\n",
    "    accuracy = correct_prediction.float().mean()\n",
    "    print('Accuracy:', accuracy.item())"
   ]
  },
  {
   "cell_type": "code",
   "execution_count": 16,
   "id": "261ffb0f",
   "metadata": {
    "execution": {
     "iopub.execute_input": "2024-04-03T08:56:29.882584Z",
     "iopub.status.busy": "2024-04-03T08:56:29.881998Z",
     "iopub.status.idle": "2024-04-03T08:56:30.140110Z",
     "shell.execute_reply": "2024-04-03T08:56:30.139084Z"
    },
    "papermill": {
     "duration": 0.273403,
     "end_time": "2024-04-03T08:56:30.142500",
     "exception": false,
     "start_time": "2024-04-03T08:56:29.869097",
     "status": "completed"
    },
    "tags": []
   },
   "outputs": [],
   "source": [
    "X_test = torch.tensor(test.values, dtype=torch.float32).to(device)\n",
    "X_test = X_test.reshape(-1, 1, 28, 28)\n",
    "X_test.shape\n",
    "\n",
    "with torch.no_grad():\n",
    "    cnn.eval()\n",
    "    sample_sub['Label'] = cnn(X_test).cpu().argmax(dim=1)\n",
    "\n",
    "sample_sub.head()\n",
    "\n",
    "sample_sub.to_csv(\"cnn_submission.csv\", index=False)"
   ]
  },
  {
   "cell_type": "code",
   "execution_count": 17,
   "id": "69d24651",
   "metadata": {
    "execution": {
     "iopub.execute_input": "2024-04-03T08:56:30.168202Z",
     "iopub.status.busy": "2024-04-03T08:56:30.167848Z",
     "iopub.status.idle": "2024-04-03T08:56:30.177037Z",
     "shell.execute_reply": "2024-04-03T08:56:30.176104Z"
    },
    "papermill": {
     "duration": 0.024219,
     "end_time": "2024-04-03T08:56:30.179010",
     "exception": false,
     "start_time": "2024-04-03T08:56:30.154791",
     "status": "completed"
    },
    "tags": []
   },
   "outputs": [
    {
     "data": {
      "text/html": [
       "<div>\n",
       "<style scoped>\n",
       "    .dataframe tbody tr th:only-of-type {\n",
       "        vertical-align: middle;\n",
       "    }\n",
       "\n",
       "    .dataframe tbody tr th {\n",
       "        vertical-align: top;\n",
       "    }\n",
       "\n",
       "    .dataframe thead th {\n",
       "        text-align: right;\n",
       "    }\n",
       "</style>\n",
       "<table border=\"1\" class=\"dataframe\">\n",
       "  <thead>\n",
       "    <tr style=\"text-align: right;\">\n",
       "      <th></th>\n",
       "      <th>ImageId</th>\n",
       "      <th>Label</th>\n",
       "    </tr>\n",
       "  </thead>\n",
       "  <tbody>\n",
       "    <tr>\n",
       "      <th>0</th>\n",
       "      <td>1</td>\n",
       "      <td>2</td>\n",
       "    </tr>\n",
       "    <tr>\n",
       "      <th>1</th>\n",
       "      <td>2</td>\n",
       "      <td>0</td>\n",
       "    </tr>\n",
       "    <tr>\n",
       "      <th>2</th>\n",
       "      <td>3</td>\n",
       "      <td>9</td>\n",
       "    </tr>\n",
       "    <tr>\n",
       "      <th>3</th>\n",
       "      <td>4</td>\n",
       "      <td>9</td>\n",
       "    </tr>\n",
       "    <tr>\n",
       "      <th>4</th>\n",
       "      <td>5</td>\n",
       "      <td>3</td>\n",
       "    </tr>\n",
       "  </tbody>\n",
       "</table>\n",
       "</div>"
      ],
      "text/plain": [
       "   ImageId  Label\n",
       "0        1      2\n",
       "1        2      0\n",
       "2        3      9\n",
       "3        4      9\n",
       "4        5      3"
      ]
     },
     "execution_count": 17,
     "metadata": {},
     "output_type": "execute_result"
    }
   ],
   "source": [
    "sample_sub.head()"
   ]
  },
  {
   "cell_type": "markdown",
   "id": "778ba552",
   "metadata": {
    "papermill": {
     "duration": 0.012215,
     "end_time": "2024-04-03T08:56:30.203646",
     "exception": false,
     "start_time": "2024-04-03T08:56:30.191431",
     "status": "completed"
    },
    "tags": []
   },
   "source": [
    "-----"
   ]
  },
  {
   "cell_type": "code",
   "execution_count": 18,
   "id": "57db6c06",
   "metadata": {
    "execution": {
     "iopub.execute_input": "2024-04-03T08:56:30.230062Z",
     "iopub.status.busy": "2024-04-03T08:56:30.229442Z",
     "iopub.status.idle": "2024-04-03T08:56:30.234279Z",
     "shell.execute_reply": "2024-04-03T08:56:30.233240Z"
    },
    "papermill": {
     "duration": 0.020807,
     "end_time": "2024-04-03T08:56:30.236500",
     "exception": false,
     "start_time": "2024-04-03T08:56:30.215693",
     "status": "completed"
    },
    "tags": []
   },
   "outputs": [],
   "source": [
    "learning_rate = 0.0001\n",
    "training_epochs = 15\n",
    "batch_size = 16"
   ]
  },
  {
   "cell_type": "code",
   "execution_count": 19,
   "id": "44cf364d",
   "metadata": {
    "execution": {
     "iopub.execute_input": "2024-04-03T08:56:30.262911Z",
     "iopub.status.busy": "2024-04-03T08:56:30.262137Z",
     "iopub.status.idle": "2024-04-03T09:02:50.452169Z",
     "shell.execute_reply": "2024-04-03T09:02:50.451086Z"
    },
    "papermill": {
     "duration": 380.205543,
     "end_time": "2024-04-03T09:02:50.454448",
     "exception": false,
     "start_time": "2024-04-03T08:56:30.248905",
     "status": "completed"
    },
    "tags": []
   },
   "outputs": [
    {
     "name": "stderr",
     "output_type": "stream",
     "text": [
      "/opt/conda/lib/python3.10/site-packages/torchvision/models/_utils.py:208: UserWarning: The parameter 'pretrained' is deprecated since 0.13 and may be removed in the future, please use 'weights' instead.\n",
      "  warnings.warn(\n",
      "/opt/conda/lib/python3.10/site-packages/torchvision/models/_utils.py:223: UserWarning: Arguments other than a weight enum or `None` for 'weights' are deprecated since 0.13 and may be removed in the future. The current behavior is equivalent to passing `weights=ResNet50_Weights.IMAGENET1K_V1`. You can also use `weights=ResNet50_Weights.DEFAULT` to get the most up-to-date weights.\n",
      "  warnings.warn(msg)\n",
      "Downloading: \"https://download.pytorch.org/models/resnet50-0676ba61.pth\" to /root/.cache/torch/hub/checkpoints/resnet50-0676ba61.pth\n",
      "100%|██████████| 97.8M/97.8M [00:00<00:00, 164MB/s]\n"
     ]
    },
    {
     "name": "stdout",
     "output_type": "stream",
     "text": [
      "Epoch    1/15 Cost: 0.283444\n",
      "Epoch    2/15 Cost: 0.024086\n",
      "Epoch    3/15 Cost: 0.031602\n",
      "Epoch    4/15 Cost: 0.004816\n",
      "Epoch    5/15 Cost: 0.007458\n",
      "Epoch    6/15 Cost: 0.026808\n",
      "Epoch    7/15 Cost: 0.008049\n",
      "Epoch    8/15 Cost: 0.001743\n",
      "Epoch    9/15 Cost: 0.004733\n",
      "Epoch   10/15 Cost: 0.001880\n",
      "Epoch   11/15 Cost: 0.002303\n",
      "Epoch   12/15 Cost: 0.002447\n",
      "Epoch   13/15 Cost: 0.000795\n",
      "Epoch   14/15 Cost: 0.000340\n",
      "Epoch   15/15 Cost: 0.000337\n",
      "Training Done\n"
     ]
    }
   ],
   "source": [
    "import torchvision.models as models\n",
    "\n",
    "res50 = models.resnet50(pretrained=True).to(device)\n",
    "res50.conv1 = nn.Conv2d(1, 64, kernel_size=7, stride=2, padding=3, bias=False).to(device)\n",
    "\n",
    "loss_fn = nn.CrossEntropyLoss().to(device) \n",
    "optimizer = optim.Adam(res50.parameters(), lr=learning_rate)\n",
    "# ReduceLROnPlateau : 학습률 감소 기법 중 하나로, 검증 손실이 더 이상 개선되지 않을 때 학습률을 동적으로 감소시켜 모델의 학습을 돕는 기법\n",
    "scheduler = optim.lr_scheduler.ReduceLROnPlateau(optimizer, mode='min', factor = 0.1, patience=5)\n",
    "\n",
    "num_ftrs = res50.fc.in_features\n",
    "num_classes = len([i for i in range(10)])\n",
    "res50.fc = nn.Sequential(\n",
    "    nn.Dropout(0.5),  # \n",
    "    nn.Linear(num_ftrs, num_classes)  # Adjust num_classes according to your task\n",
    ").to(device)\n",
    "\n",
    "for epoch in range(training_epochs):\n",
    "    avg_cost = 0\n",
    "\n",
    "    for X, Y in data_loader:\n",
    "        X = X.to(device)\n",
    "        Y = Y.to(device)\n",
    "            \n",
    "        optimizer.zero_grad()\n",
    "        y_pred = res50(X)\n",
    "        loss = loss_fn(y_pred, Y)\n",
    "        losses.append(loss.item())\n",
    "        loss.backward()\n",
    "        optimizer.step()\n",
    "\n",
    "    avg_cost /= len(data_loader)\n",
    "\n",
    "    print('Epoch {:4d}/{} Cost: {:.6f}'.format(epoch + 1, training_epochs, loss.item()))  \n",
    "    scheduler.step(avg_cost)\n",
    "            \n",
    "print('Training Done')"
   ]
  },
  {
   "cell_type": "code",
   "execution_count": 20,
   "id": "fadd491b",
   "metadata": {
    "execution": {
     "iopub.execute_input": "2024-04-03T09:02:50.485409Z",
     "iopub.status.busy": "2024-04-03T09:02:50.485103Z",
     "iopub.status.idle": "2024-04-03T09:02:51.193897Z",
     "shell.execute_reply": "2024-04-03T09:02:51.192774Z"
    },
    "papermill": {
     "duration": 0.726346,
     "end_time": "2024-04-03T09:02:51.196202",
     "exception": false,
     "start_time": "2024-04-03T09:02:50.469856",
     "status": "completed"
    },
    "tags": []
   },
   "outputs": [
    {
     "name": "stderr",
     "output_type": "stream",
     "text": [
      "/opt/conda/lib/python3.10/site-packages/torchvision/datasets/mnist.py:80: UserWarning: test_data has been renamed data\n",
      "  warnings.warn(\"test_data has been renamed data\")\n",
      "/opt/conda/lib/python3.10/site-packages/torchvision/datasets/mnist.py:70: UserWarning: test_labels has been renamed targets\n",
      "  warnings.warn(\"test_labels has been renamed targets\")\n"
     ]
    },
    {
     "name": "stdout",
     "output_type": "stream",
     "text": [
      "Accuracy: 0.9949999451637268\n"
     ]
    }
   ],
   "source": [
    "with torch.no_grad():\n",
    "    X_test = mnist_test.test_data.view(len(mnist_test), 1, 28, 28).float().to(device)\n",
    "    Y_test = mnist_test.test_labels.to(device)\n",
    "\n",
    "    prediction = res50(X_test)\n",
    "    correct_prediction = torch.argmax(prediction, 1) == Y_test\n",
    "    accuracy = correct_prediction.float().mean()\n",
    "    print('Accuracy:', accuracy.item())"
   ]
  },
  {
   "cell_type": "code",
   "execution_count": 21,
   "id": "a3951014",
   "metadata": {
    "execution": {
     "iopub.execute_input": "2024-04-03T09:02:51.226905Z",
     "iopub.status.busy": "2024-04-03T09:02:51.226357Z",
     "iopub.status.idle": "2024-04-03T09:02:54.289421Z",
     "shell.execute_reply": "2024-04-03T09:02:54.288615Z"
    },
    "papermill": {
     "duration": 3.080876,
     "end_time": "2024-04-03T09:02:54.291773",
     "exception": false,
     "start_time": "2024-04-03T09:02:51.210897",
     "status": "completed"
    },
    "tags": []
   },
   "outputs": [],
   "source": [
    "X_test = torch.tensor(test.values, dtype=torch.float32).to(device)\n",
    "X_test = X_test.reshape(-1, 1, 28, 28)\n",
    "X_test.shape\n",
    "\n",
    "with torch.no_grad():\n",
    "    res50.eval()\n",
    "    sample_sub['Label'] = res50(X_test).cpu().argmax(dim=1)\n",
    "\n",
    "sample_sub.head()\n",
    "\n",
    "sample_sub.to_csv(\"res50_submission.csv\", index=False)"
   ]
  },
  {
   "cell_type": "code",
   "execution_count": 22,
   "id": "17f758ea",
   "metadata": {
    "execution": {
     "iopub.execute_input": "2024-04-03T09:02:54.322221Z",
     "iopub.status.busy": "2024-04-03T09:02:54.321879Z",
     "iopub.status.idle": "2024-04-03T09:02:54.332693Z",
     "shell.execute_reply": "2024-04-03T09:02:54.331754Z"
    },
    "papermill": {
     "duration": 0.028353,
     "end_time": "2024-04-03T09:02:54.334867",
     "exception": false,
     "start_time": "2024-04-03T09:02:54.306514",
     "status": "completed"
    },
    "tags": []
   },
   "outputs": [
    {
     "data": {
      "text/html": [
       "<div>\n",
       "<style scoped>\n",
       "    .dataframe tbody tr th:only-of-type {\n",
       "        vertical-align: middle;\n",
       "    }\n",
       "\n",
       "    .dataframe tbody tr th {\n",
       "        vertical-align: top;\n",
       "    }\n",
       "\n",
       "    .dataframe thead th {\n",
       "        text-align: right;\n",
       "    }\n",
       "</style>\n",
       "<table border=\"1\" class=\"dataframe\">\n",
       "  <thead>\n",
       "    <tr style=\"text-align: right;\">\n",
       "      <th></th>\n",
       "      <th>ImageId</th>\n",
       "      <th>Label</th>\n",
       "    </tr>\n",
       "  </thead>\n",
       "  <tbody>\n",
       "    <tr>\n",
       "      <th>0</th>\n",
       "      <td>1</td>\n",
       "      <td>3</td>\n",
       "    </tr>\n",
       "    <tr>\n",
       "      <th>1</th>\n",
       "      <td>2</td>\n",
       "      <td>8</td>\n",
       "    </tr>\n",
       "    <tr>\n",
       "      <th>2</th>\n",
       "      <td>3</td>\n",
       "      <td>8</td>\n",
       "    </tr>\n",
       "    <tr>\n",
       "      <th>3</th>\n",
       "      <td>4</td>\n",
       "      <td>8</td>\n",
       "    </tr>\n",
       "    <tr>\n",
       "      <th>4</th>\n",
       "      <td>5</td>\n",
       "      <td>3</td>\n",
       "    </tr>\n",
       "    <tr>\n",
       "      <th>...</th>\n",
       "      <td>...</td>\n",
       "      <td>...</td>\n",
       "    </tr>\n",
       "    <tr>\n",
       "      <th>27995</th>\n",
       "      <td>27996</td>\n",
       "      <td>8</td>\n",
       "    </tr>\n",
       "    <tr>\n",
       "      <th>27996</th>\n",
       "      <td>27997</td>\n",
       "      <td>7</td>\n",
       "    </tr>\n",
       "    <tr>\n",
       "      <th>27997</th>\n",
       "      <td>27998</td>\n",
       "      <td>3</td>\n",
       "    </tr>\n",
       "    <tr>\n",
       "      <th>27998</th>\n",
       "      <td>27999</td>\n",
       "      <td>3</td>\n",
       "    </tr>\n",
       "    <tr>\n",
       "      <th>27999</th>\n",
       "      <td>28000</td>\n",
       "      <td>2</td>\n",
       "    </tr>\n",
       "  </tbody>\n",
       "</table>\n",
       "<p>28000 rows × 2 columns</p>\n",
       "</div>"
      ],
      "text/plain": [
       "       ImageId  Label\n",
       "0            1      3\n",
       "1            2      8\n",
       "2            3      8\n",
       "3            4      8\n",
       "4            5      3\n",
       "...        ...    ...\n",
       "27995    27996      8\n",
       "27996    27997      7\n",
       "27997    27998      3\n",
       "27998    27999      3\n",
       "27999    28000      2\n",
       "\n",
       "[28000 rows x 2 columns]"
      ]
     },
     "execution_count": 22,
     "metadata": {},
     "output_type": "execute_result"
    }
   ],
   "source": [
    "sample_sub"
   ]
  },
  {
   "cell_type": "markdown",
   "id": "337b60a5",
   "metadata": {
    "papermill": {
     "duration": 0.014311,
     "end_time": "2024-04-03T09:02:54.365195",
     "exception": false,
     "start_time": "2024-04-03T09:02:54.350884",
     "status": "completed"
    },
    "tags": []
   },
   "source": [
    "-----"
   ]
  }
 ],
 "metadata": {
  "kaggle": {
   "accelerator": "gpu",
   "dataSources": [
    {
     "databundleVersionId": 861823,
     "sourceId": 3004,
     "sourceType": "competition"
    }
   ],
   "dockerImageVersionId": 30673,
   "isGpuEnabled": true,
   "isInternetEnabled": true,
   "language": "python",
   "sourceType": "notebook"
  },
  "kernelspec": {
   "display_name": "Python 3",
   "language": "python",
   "name": "python3"
  },
  "language_info": {
   "codemirror_mode": {
    "name": "ipython",
    "version": 3
   },
   "file_extension": ".py",
   "mimetype": "text/x-python",
   "name": "python",
   "nbconvert_exporter": "python",
   "pygments_lexer": "ipython3",
   "version": "3.10.13"
  },
  "papermill": {
   "default_parameters": {},
   "duration": 468.152167,
   "end_time": "2024-04-03T09:02:56.204242",
   "environment_variables": {},
   "exception": null,
   "input_path": "__notebook__.ipynb",
   "output_path": "__notebook__.ipynb",
   "parameters": {},
   "start_time": "2024-04-03T08:55:08.052075",
   "version": "2.5.0"
  }
 },
 "nbformat": 4,
 "nbformat_minor": 5
}
